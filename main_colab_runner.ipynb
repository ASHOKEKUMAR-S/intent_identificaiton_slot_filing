{
 "cells": [
  {
   "cell_type": "code",
   "execution_count": null,
   "id": "d72eb6d1",
   "metadata": {
    "vscode": {
     "languageId": "plaintext"
    }
   },
   "outputs": [],
   "source": [
    "# 📦 Clone your GitHub repo into Colab\n",
    "!git clone https://github.com/Ashokekumar-S/intent_identificaiton_slot_filing.git\n",
    "\n",
    "# 📂 Move into the repo directory\n",
    "%cd intent_identificaiton_slot_filing\n",
    "\n",
    "# ✅ List files to confirm successful clone\n",
    "!ls -R\n"
   ]
  }
 ],
 "metadata": {
  "language_info": {
   "name": "python"
  }
 },
 "nbformat": 4,
 "nbformat_minor": 5
}
